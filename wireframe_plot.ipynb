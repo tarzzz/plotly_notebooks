{
 "metadata": {
  "name": "",
  "signature": "sha256:47693b9ffbbafa4803cc3efb654a0225ae4a6d4e7ac68ff87a5d27d887035432"
 },
 "nbformat": 3,
 "nbformat_minor": 0,
 "worksheets": [
  {
   "cells": [
    {
     "cell_type": "code",
     "collapsed": false,
     "input": [
      "import plotly.plotly as py \n",
      "# Visit here for setting up Plotly authentication: https://plot.ly/python/getting-started/\n",
      "from plotly.graph_objs import *\n",
      "import numpy as np"
     ],
     "language": "python",
     "metadata": {},
     "outputs": [],
     "prompt_number": 1
    },
    {
     "cell_type": "code",
     "collapsed": false,
     "input": [
      "#create data\n",
      "x = np.linspace(-5,80,10)\n",
      "y = np.linspace(-5,60,10)\n",
      "xGrid, yGrid = np.meshgrid(y, x)\n",
      "\n",
      "z = -(np.cos(xGrid**2) * np.cos(yGrid**2))**2\n",
      "\n",
      "numPts = x.shape[0]\n",
      "numSets = y.shape[0]\n",
      "z.shape\n",
      "print xGrid.shape, yGrid.shape, z.shape"
     ],
     "language": "python",
     "metadata": {},
     "outputs": [
      {
       "output_type": "stream",
       "stream": "stdout",
       "text": [
        "(10, 10) (10, 10) (10, 10)\n"
       ]
      }
     ],
     "prompt_number": 2
    },
    {
     "cell_type": "code",
     "collapsed": false,
     "input": [
      "s = Surface(x=x,y=y,z=z)\n",
      "data = Data([s])"
     ],
     "language": "python",
     "metadata": {},
     "outputs": [],
     "prompt_number": 3
    },
    {
     "cell_type": "code",
     "collapsed": false,
     "input": [
      "layout_dict = {'title':'Surface Plot/ Wireframe','autosize':False,\n",
      "               'width':800,'height':800, 'hidesurface':True, \n",
      "               'margin':Margin(l=50,r=50,b=65,t=100),\n",
      "               'contours': { 'x': { 'show': True },  'y': { 'show': True } }\n",
      "               }"
     ],
     "language": "python",
     "metadata": {},
     "outputs": [],
     "prompt_number": 4
    },
    {
     "cell_type": "code",
     "collapsed": false,
     "input": [
      "fig_dict = {'data':data,'layout':layout_dict}\n",
      "p = py.plot(fig_dict, filename='surface-plot', validate=False)\n",
      "p = p + \".embed?hieght=400&width=400\"\n",
      "print p"
     ],
     "language": "python",
     "metadata": {},
     "outputs": [
      {
       "output_type": "stream",
       "stream": "stdout",
       "text": [
        "https://plot.ly/~tarzzz/45.embed?hieght=400&width=400\n"
       ]
      }
     ],
     "prompt_number": 5
    },
    {
     "cell_type": "code",
     "collapsed": false,
     "input": [
      "from IPython.core.display import HTML"
     ],
     "language": "python",
     "metadata": {},
     "outputs": [],
     "prompt_number": 6
    },
    {
     "cell_type": "code",
     "collapsed": false,
     "input": [
      "html_ = '<iframe src=\\\"{_src}\\\" height=\\\"400\\\" width=\\\"400\\\"></iframe>'.format(_src=p)"
     ],
     "language": "python",
     "metadata": {},
     "outputs": [],
     "prompt_number": 7
    },
    {
     "cell_type": "code",
     "collapsed": false,
     "input": [
      "HTML(html_)"
     ],
     "language": "python",
     "metadata": {},
     "outputs": [
      {
       "html": [
        "<iframe src=\"https://plot.ly/~tarzzz/45.embed?hieght=400&width=400\" height=\"400\" width=\"400\"></iframe>"
       ],
       "metadata": {},
       "output_type": "pyout",
       "prompt_number": 22,
       "text": [
        "<IPython.core.display.HTML object>"
       ]
      }
     ],
     "prompt_number": 22
    },
    {
     "cell_type": "code",
     "collapsed": false,
     "input": [
      "import plotly\n",
      "plotly.__v"
     ],
     "language": "python",
     "metadata": {},
     "outputs": []
    }
   ],
   "metadata": {}
  }
 ]
}