{
 "metadata": {
  "name": "",
  "signature": "sha256:4c4ee2e44cf62bec0ead94199707fffeed2d8a2adf379247244aa7bcbf8db476"
 },
 "nbformat": 3,
 "nbformat_minor": 0,
 "worksheets": [
  {
   "cells": [
    {
     "cell_type": "code",
     "collapsed": false,
     "input": [
      "import plotly.plotly as py \n",
      "# Visit here for setting up Plotly authentication: https://plot.ly/python/getting-started/\n",
      "from plotly.graph_objs import *\n",
      "import numpy as np"
     ],
     "language": "python",
     "metadata": {},
     "outputs": [],
     "prompt_number": 29
    },
    {
     "cell_type": "code",
     "collapsed": false,
     "input": [
      "#create data\n",
      "x = np.linspace(-5,80,10)\n",
      "y = np.linspace(-5,60,10)\n",
      "xGrid, yGrid = np.meshgrid(y, x)\n",
      "\n",
      "z = -(np.cos(xGrid**2) * np.cos(yGrid**2))**2\n",
      "\n",
      "numPts = x.shape[0]\n",
      "numSets = y.shape[0]\n",
      "z.shape\n",
      "print xGrid.shape, yGrid.shape, z.shape"
     ],
     "language": "python",
     "metadata": {},
     "outputs": [
      {
       "output_type": "stream",
       "stream": "stdout",
       "text": [
        "(10, 10) (10, 10) (10, 10)\n"
       ]
      }
     ],
     "prompt_number": 73
    },
    {
     "cell_type": "code",
     "collapsed": false,
     "input": [
      "s = Surface(x=x,y=y,z=z)\n",
      "data = Data([s])"
     ],
     "language": "python",
     "metadata": {},
     "outputs": [],
     "prompt_number": 74
    },
    {
     "cell_type": "code",
     "collapsed": false,
     "input": [
      "layout = Layout(\n",
      "    title='Surface Plot/ Wireframe',\n",
      "    autosize=False,\n",
      "    width=800,\n",
      "    height=800,\n",
      "    margin=Margin(\n",
      "        l=50,\n",
      "        r=50,\n",
      "        b=65,\n",
      "        t=100\n",
      "    ))"
     ],
     "language": "python",
     "metadata": {},
     "outputs": [],
     "prompt_number": 75
    },
    {
     "cell_type": "code",
     "collapsed": false,
     "input": [
      "fig = Figure(data=data, layout=layout)\n",
      "py.iplot(fig, filename='surface-plot', validate=False)\n"
     ],
     "language": "python",
     "metadata": {},
     "outputs": [
      {
       "html": [
        "<iframe id=\"igraph\" scrolling=\"no\" style=\"border:none;\"seamless=\"seamless\" src=\"https://plot.ly/~tarzzz/45.embed\" height=\"525\" width=\"100%\"></iframe>"
       ],
       "metadata": {},
       "output_type": "pyout",
       "prompt_number": 76,
       "text": [
        "<plotly.tools.PlotlyDisplay object>"
       ]
      }
     ],
     "prompt_number": 76
    },
    {
     "cell_type": "code",
     "collapsed": false,
     "input": [],
     "language": "python",
     "metadata": {},
     "outputs": []
    }
   ],
   "metadata": {}
  }
 ]
}