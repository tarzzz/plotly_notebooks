{
 "metadata": {
  "name": "",
  "signature": "sha256:9fd3421e5cc83452b1c010094c438bd686ba5e0aa226351d2980658eee8ef0f2"
 },
 "nbformat": 3,
 "nbformat_minor": 0,
 "worksheets": [
  {
   "cells": [
    {
     "cell_type": "code",
     "collapsed": false,
     "input": [
      "import plotly.plotly as py \n",
      "# Visit here for setting up Plotly authentication: https://plot.ly/python/getting-started/\n",
      "from plotly.graph_objs import *\n",
      "import numpy as np"
     ],
     "language": "python",
     "metadata": {},
     "outputs": [],
     "prompt_number": 14
    },
    {
     "cell_type": "code",
     "collapsed": false,
     "input": [
      "#create data\n",
      "x = np.linspace(-5,80,10)\n",
      "y = np.linspace(-5,60,10)\n",
      "xGrid, yGrid = np.meshgrid(y, x)\n",
      "\n",
      "z = -(np.cos(xGrid**2) * np.cos(yGrid**2))**2\n",
      "\n",
      "numPts = x.shape[0]\n",
      "numSets = y.shape[0]\n",
      "z.shape\n",
      "print xGrid.shape, yGrid.shape, z.shape"
     ],
     "language": "python",
     "metadata": {},
     "outputs": [
      {
       "output_type": "stream",
       "stream": "stdout",
       "text": [
        "(10, 10) (10, 10) (10, 10)\n"
       ]
      }
     ],
     "prompt_number": 15
    },
    {
     "cell_type": "code",
     "collapsed": false,
     "input": [
      "s = Surface(x=x,y=y,z=z)\n",
      "data = Data([s])"
     ],
     "language": "python",
     "metadata": {},
     "outputs": [],
     "prompt_number": 16
    },
    {
     "cell_type": "code",
     "collapsed": false,
     "input": [
      "layout_dict = {'title':'Surface Plot/ Wireframe','autosize':False,\n",
      "               'width':800,'height':800, 'hidesurface':True, 'margin':Margin(l=50,r=50,b=65,t=100),\n",
      "               'contours': { 'x': { 'show': True },  'y': { 'show': True } }\n",
      "               }"
     ],
     "language": "python",
     "metadata": {},
     "outputs": [],
     "prompt_number": 19
    },
    {
     "cell_type": "code",
     "collapsed": false,
     "input": [
      "fig_dict = {'data':data,'layout':layout_dict}\n",
      "py.iplot(fig_dict, filename='surface-plot', validate=False)\n"
     ],
     "language": "python",
     "metadata": {},
     "outputs": [
      {
       "html": [
        "<iframe id=\"igraph\" scrolling=\"no\" style=\"border:none;\"seamless=\"seamless\" src=\"https://plot.ly/~tarzzz/45.embed\" height=\"525\" width=\"100%\"></iframe>"
       ],
       "metadata": {},
       "output_type": "pyout",
       "prompt_number": 20,
       "text": [
        "<plotly.tools.PlotlyDisplay object>"
       ]
      }
     ],
     "prompt_number": 20
    },
    {
     "cell_type": "code",
     "collapsed": false,
     "input": [],
     "language": "python",
     "metadata": {},
     "outputs": []
    }
   ],
   "metadata": {}
  }
 ]
}