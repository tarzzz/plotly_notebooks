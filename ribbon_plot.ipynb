{
 "metadata": {
  "name": "",
  "signature": "sha256:30158521a58c041a6ecd89c080ec0ae26b7c1f0332117bc0fa53f4c2bed0855a"
 },
 "nbformat": 3,
 "nbformat_minor": 0,
 "worksheets": [
  {
   "cells": [
    {
     "cell_type": "markdown",
     "metadata": {},
     "source": [
      "#Tutorial: Ribbon Plot with Plotly (and NumPy)#\n",
      "\n",
      "In this notebook, we will demonstrate how to create 3D ribbon plots with Plotly.\n",
      "\n",
      "##Dependencies:##\n",
      "\n",
      "For this tutorial, following modules are required:\n",
      "\n",
      "NumPy>=1.6\n",
      "\n",
      "Plotly>=1.6\n"
     ]
    },
    {
     "cell_type": "markdown",
     "metadata": {},
     "source": [
      "We start by importing the modules into notebook's namespace:"
     ]
    },
    {
     "cell_type": "code",
     "collapsed": false,
     "input": [
      "import plotly.plotly as py \n",
      "# Visit here for setting up Plotly authentication: https://plot.ly/python/getting-started/\n",
      "from plotly.graph_objs import *\n",
      "import numpy as np"
     ],
     "language": "python",
     "metadata": {},
     "outputs": [],
     "prompt_number": 1
    },
    {
     "cell_type": "markdown",
     "metadata": {},
     "source": [
      "Now we create sample data for our ribbon plots. We are going to use sine function in 3D for creating the data for our plot. Ribbon plots can be seen as multiple surface plots, so we create the data accordingly:"
     ]
    },
    {
     "cell_type": "code",
     "collapsed": false,
     "input": [
      "#create data\n",
      "x = np.linspace(-10,5,50)\n",
      "y = np.linspace(-5,10,20)\n",
      "xGrid, yGrid = np.meshgrid(y, x)\n",
      "z = np.sin(np.sqrt(xGrid**2 + yGrid**2))\n",
      "\n",
      "numPts = x.shape[0]\n",
      "numSets = y.shape[0]\n",
      "\n"
     ],
     "language": "python",
     "metadata": {},
     "outputs": [],
     "prompt_number": 2
    },
    {
     "cell_type": "markdown",
     "metadata": {},
     "source": [
      "The data generated (x,y,z) form a continous surface. Now we create ribbons using the data:"
     ]
    },
    {
     "cell_type": "code",
     "collapsed": false,
     "input": [
      "#plot each \"ribbon\" as a surface plot with a certain width\n",
      "surfaces = []\n",
      "ribbonWidth = 0.75\n",
      "for i in np.arange(0,numSets-1):\n",
      "    X = np.vstack((x,x)).T\n",
      "    Y = np.ones((numPts,2))*i\n",
      "    Y[:,1] = Y[:,0]+ribbonWidth\n",
      "    Z = np.vstack((z[:,i],z[:,i])).T\n",
      "    surfaces.append(Surface(x=X,y=Y,z=Z)) # Each surface is added to a list, which acts as a data source"
     ],
     "language": "python",
     "metadata": {},
     "outputs": [],
     "prompt_number": 3
    },
    {
     "cell_type": "markdown",
     "metadata": {},
     "source": [
      "The data is saved into a Plotly object, which is then drawn to the plot using the Plotly API."
     ]
    },
    {
     "cell_type": "code",
     "collapsed": false,
     "input": [
      "data = Data(surfaces)"
     ],
     "language": "python",
     "metadata": {},
     "outputs": [],
     "prompt_number": 4
    },
    {
     "cell_type": "code",
     "collapsed": false,
     "input": [
      "layout = Layout(\n",
      "    title='Ribbon Plot 1',\n",
      "    autosize=False,\n",
      "    width=800,\n",
      "    height=800,\n",
      "    margin=Margin(\n",
      "        l=50,\n",
      "        r=50,\n",
      "        b=65,\n",
      "        t=100\n",
      "    )\n",
      ")\n",
      "fig = Figure(data=data, layout=layout)\n",
      "py.iplot(fig, filename='ribbon-plot1')"
     ],
     "language": "python",
     "metadata": {},
     "outputs": [
      {
       "output_type": "stream",
       "stream": "stdout",
       "text": [
        "The draw time for this plot will be slow for all clients.\n"
       ]
      },
      {
       "output_type": "stream",
       "stream": "stderr",
       "text": [
        "/usr/local/lib/python2.7/dist-packages/plotly/plotly/plotly.py:1261: UserWarning:\n",
        "\n",
        "Estimated Draw Time Too Long\n",
        "\n"
       ]
      },
      {
       "html": [
        "<iframe id=\"igraph\" scrolling=\"no\" style=\"border:none;\"seamless=\"seamless\" src=\"https://plot.ly/~tarzzz/35.embed\" height=\"525\" width=\"100%\"></iframe>"
       ],
       "metadata": {},
       "output_type": "pyout",
       "prompt_number": 5,
       "text": [
        "<plotly.tools.PlotlyDisplay object>"
       ]
      }
     ],
     "prompt_number": 5
    },
    {
     "cell_type": "code",
     "collapsed": false,
     "input": [],
     "language": "python",
     "metadata": {},
     "outputs": []
    }
   ],
   "metadata": {}
  }
 ]
}