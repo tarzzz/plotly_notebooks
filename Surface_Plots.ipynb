{
 "metadata": {
  "name": "",
  "signature": "sha256:e1fc474f322c74e6e7f9dd4986c72c695b844178115675a5ca405f06fa4579dd"
 },
 "nbformat": 3,
 "nbformat_minor": 0,
 "worksheets": [
  {
   "cells": [
    {
     "cell_type": "markdown",
     "metadata": {},
     "source": [
      "#Creating 3D Surface Plots with Plotly#"
     ]
    },
    {
     "cell_type": "markdown",
     "metadata": {},
     "source": [
      "In this notebook, we will be exploring the world of plotting Surfaces using the powers of python and Plotly. Plotly is a graph plotting library, which is utilized for making awesome graphs and is pretty simple to use. If you are new to plotly, you may want to go through the basic plotly overview. We are going to create three surface plots. The first one serves as a tutorial for plotting surfaces using plotly, and rest two are the demonstration for its capabilities.\n",
      "\n",
      "We are going to cover the following sections in this notebook:\n",
      "\n",
      "  - [A Simple 3D Surface](#simple-surface)\n",
      "  - [Parametric Surface](#parametric-surface)\n",
      "  - [Adding Custom Features to the plots](#custom-features)\n",
      "    - [Adding Custom Colorscales](#custom-colorscale)"
     ]
    },
    {
     "cell_type": "markdown",
     "metadata": {},
     "source": [
      "<a name=\"simple-surface\"></a>\n",
      "## A Simple 3D Surface ##"
     ]
    },
    {
     "cell_type": "markdown",
     "metadata": {},
     "source": [
      "In this section we are going to create a simple 3D Surface. We will be using an arbitrary function to generate the data points for the surface, and use it to create Surface plots using Plotly. "
     ]
    },
    {
     "cell_type": "markdown",
     "metadata": {},
     "source": [
      "### Importing the modules ###\n",
      "We start by importing plotly, which contains the methods for interacting with plotly's servers. It automatically signs us in to plotly web servers as well. More details about plotly authentication can be read [here](https://plot.ly/python/getting-started/)"
     ]
    },
    {
     "cell_type": "code",
     "collapsed": false,
     "input": [
      "import plotly.plotly as py "
     ],
     "language": "python",
     "metadata": {},
     "outputs": [],
     "prompt_number": 20
    },
    {
     "cell_type": "markdown",
     "metadata": {},
     "source": [
      "Next we import plotly's `graph_objects`. Graph Objects contains all the objects used for plotting, like `Figure`,`Data` etc. We will learn how to use them, as we move through this tutorial."
     ]
    },
    {
     "cell_type": "code",
     "collapsed": false,
     "input": [
      "from plotly.graph_objs import *"
     ],
     "language": "python",
     "metadata": {},
     "outputs": [],
     "prompt_number": 21
    },
    {
     "cell_type": "markdown",
     "metadata": {},
     "source": [
      "For this example, we will use `numpy` for data handling. Alternatively, pandas dataframes can also be used for the purpose. "
     ]
    },
    {
     "cell_type": "code",
     "collapsed": false,
     "input": [
      "import numpy as np"
     ],
     "language": "python",
     "metadata": {},
     "outputs": [],
     "prompt_number": 22
    },
    {
     "cell_type": "markdown",
     "metadata": {},
     "source": [
      "### Creating the dataset ###"
     ]
    },
    {
     "cell_type": "markdown",
     "metadata": {},
     "source": [
      "We need to create a dataset to plot. We start with a x,y grid."
     ]
    },
    {
     "cell_type": "code",
     "collapsed": false,
     "input": [
      "x = np.linspace(-5,80,10)\n",
      "y = np.linspace(-5,60,10)\n",
      "xGrid, yGrid = np.meshgrid(y, x)"
     ],
     "language": "python",
     "metadata": {},
     "outputs": [],
     "prompt_number": 52
    },
    {
     "cell_type": "markdown",
     "metadata": {},
     "source": [
      "Now we have an x-y grid to create our 3D surface on. For z, we are going to use an arbitrary function to generate the values. For this example, we are going to use a simple function `x^3 + y^3`"
     ]
    },
    {
     "cell_type": "code",
     "collapsed": false,
     "input": [
      "z = xGrid ** 3 + yGrid ** 3"
     ],
     "language": "python",
     "metadata": {},
     "outputs": [],
     "prompt_number": 24
    },
    {
     "cell_type": "markdown",
     "metadata": {},
     "source": [
      "### Plotting the data ###"
     ]
    },
    {
     "cell_type": "markdown",
     "metadata": {},
     "source": [
      "Now that we have created the dataset, (no cookies for guessing) we plot it using Plotly."
     ]
    },
    {
     "cell_type": "markdown",
     "metadata": {},
     "source": [
      "We start by creating a `Surface`, and converting it into Plotly's `Data` format:"
     ]
    },
    {
     "cell_type": "code",
     "collapsed": false,
     "input": [
      "surface = Surface(x=x,y=y,z=z)\n",
      "data = Data([surface])"
     ],
     "language": "python",
     "metadata": {},
     "outputs": [],
     "prompt_number": 25
    },
    {
     "cell_type": "markdown",
     "metadata": {},
     "source": [
      "Plotly's `Layout` is used to define values for customizing graph's design attributes like width, height etc."
     ]
    },
    {
     "cell_type": "code",
     "collapsed": false,
     "input": [
      "layout = Layout(\n",
      "    title='Basic Surface Plot',\n",
      "    autosize=False,\n",
      "    width=800,\n",
      "    height=800)"
     ],
     "language": "python",
     "metadata": {},
     "outputs": [],
     "prompt_number": 26
    },
    {
     "cell_type": "markdown",
     "metadata": {},
     "source": [
      "With layout and data defined, it is time to create the figure. `Figure` class takes care of that (intuitive, eh?):"
     ]
    },
    {
     "cell_type": "code",
     "collapsed": false,
     "input": [
      "fig = Figure(data=data, layout=layout)"
     ],
     "language": "python",
     "metadata": {},
     "outputs": [],
     "prompt_number": 27
    },
    {
     "cell_type": "markdown",
     "metadata": {},
     "source": [
      "Simple enough? now we plot it, inside this notebook only (`iplot`)"
     ]
    },
    {
     "cell_type": "code",
     "collapsed": false,
     "input": [
      "py.iplot(fig, filename='surface_plot')"
     ],
     "language": "python",
     "metadata": {},
     "outputs": [
      {
       "html": [
        "<iframe id=\"igraph\" scrolling=\"no\" style=\"border:none;\"seamless=\"seamless\" src=\"https://plot.ly/~tarzzz/221.embed\" height=\"525\" width=\"100%\"></iframe>"
       ],
       "metadata": {},
       "output_type": "pyout",
       "prompt_number": 28,
       "text": [
        "<plotly.tools.PlotlyDisplay object>"
       ]
      }
     ],
     "prompt_number": 28
    },
    {
     "cell_type": "markdown",
     "metadata": {},
     "source": [
      "\n",
      "<br />\n",
      "Pretty, colorful, sheet-like plot. In the next sections we will see how we can customize these plots using plotly's awesome plotting tools. "
     ]
    },
    {
     "cell_type": "markdown",
     "metadata": {},
     "source": [
      "<a name=\"parametric-surface\"></a>\n",
      "##Parametric Surfaces##\n",
      "\n",
      "In the last section, we had seen how to create simple surface plots using plotly. Now we dive deeper, to see how we can create slightly complex plots, fairly easily with plotly."
     ]
    },
    {
     "cell_type": "markdown",
     "metadata": {},
     "source": [
      "### Generating the data ###\n",
      "We start by generating a mesh-grid for plotting the surface. The equation of parametric surface will be defined using two parameters, `s` and `t`:"
     ]
    },
    {
     "cell_type": "code",
     "collapsed": false,
     "input": [
      "s = np.linspace(0,2*np.pi, 240)\n",
      "t = np.linspace(0,np.pi, 240)\n",
      "tGrid, sGrid = np.meshgrid(s, t)"
     ],
     "language": "python",
     "metadata": {},
     "outputs": [],
     "prompt_number": 29
    },
    {
     "cell_type": "markdown",
     "metadata": {},
     "source": [
      "Now we define the parametric equations of the plot using `s` and `t`:"
     ]
    },
    {
     "cell_type": "code",
     "collapsed": false,
     "input": [
      "r = 2 + np.sin(7*sGrid + 5*tGrid)  # r = 2 + sin(7s+5t)\n",
      "x1 = r*np.cos(sGrid)*np.sin(tGrid)  # x = r*cos(s)*sin(t)\n",
      "y1 = r*np.sin(sGrid)*np.sin(tGrid)  # y = r*sin(s)*sin(t)\n",
      "z1 = r*np.cos(tGrid)                # z = r*cos(t)"
     ],
     "language": "python",
     "metadata": {},
     "outputs": [],
     "prompt_number": 30
    },
    {
     "cell_type": "markdown",
     "metadata": {},
     "source": [
      "now that we have the data, we (wait for it..!) plot it.\n",
      "\n",
      "###Plotting the data ###"
     ]
    },
    {
     "cell_type": "code",
     "collapsed": false,
     "input": [
      "surface1 = Surface(x=x1,y=y1,z=z1) # Create surface\n",
      "data1 = Data([surface1])        # Create data object using surface data\n",
      "\n",
      "layout1 = Layout(               # Create Layout object\n",
      "                 title='Parametric Plot',\n",
      "                 autosize=False,\n",
      "                 width=800,height=800)\n",
      "\n",
      "fig1 = Figure(data=data1, layout=layout1) \n",
      "py.iplot(fig1, filename = 'Parametric_plot') #Plot it!"
     ],
     "language": "python",
     "metadata": {},
     "outputs": [
      {
       "html": [
        "<iframe id=\"igraph\" scrolling=\"no\" style=\"border:none;\"seamless=\"seamless\" src=\"https://plot.ly/~tarzzz/215.embed\" height=\"525\" width=\"100%\"></iframe>"
       ],
       "metadata": {},
       "output_type": "pyout",
       "prompt_number": 31,
       "text": [
        "<plotly.tools.PlotlyDisplay object>"
       ]
      }
     ],
     "prompt_number": 31
    },
    {
     "cell_type": "markdown",
     "metadata": {},
     "source": [
      "<br />\n",
      "Neat, huh! Now we shall see how we can use plotly to customize the plots, using features such as adding colorscales, hover texts and much more.."
     ]
    },
    {
     "cell_type": "markdown",
     "metadata": {},
     "source": [
      "<a name=\"custom-features\"></a>\n",
      "## Adding custom features to the plot\n",
      "\n",
      "We will take the good old basic Surface plot, and play around with it. \n",
      "\n",
      "<a name=\"custom-colorscale\"></a>\n",
      "### Adding Custom Colorscales ###\n",
      "\n",
      "Custom Colorscales can be added by supplying an argument to `Surface` class in the basic Surface plot example:\n"
     ]
    },
    {
     "cell_type": "code",
     "collapsed": false,
     "input": [
      "surface_w_clrscale = Surface(x=x,y=y,z=z,colorscale='Greens')"
     ],
     "language": "python",
     "metadata": {},
     "outputs": [],
     "prompt_number": 54
    },
    {
     "cell_type": "code",
     "collapsed": false,
     "input": [
      "# Plotting data\n",
      "data_w_clrscale = Data([surface_w_clrscale])\n",
      "\n",
      "layout_w_clrscale = Layout(         \n",
      "                 title='Surface Plot(With Custom Colorscale)',\n",
      "                 autosize=False,\n",
      "                 width=800,height=800)\n",
      "\n",
      "fig_w_clrscale = Figure(data=data_w_clrscale, layout=layout_w_clrscale) \n",
      "py.iplot(fig_w_clrscale, filename = 'surface_plot_with_custom_colorscale')"
     ],
     "language": "python",
     "metadata": {},
     "outputs": [
      {
       "html": [
        "<iframe id=\"igraph\" scrolling=\"no\" style=\"border:none;\"seamless=\"seamless\" src=\"https://plot.ly/~tarzzz/219.embed\" height=\"525\" width=\"100%\"></iframe>"
       ],
       "metadata": {},
       "output_type": "pyout",
       "prompt_number": 55,
       "text": [
        "<plotly.tools.PlotlyDisplay object>"
       ]
      }
     ],
     "prompt_number": 55
    },
    {
     "cell_type": "markdown",
     "metadata": {},
     "source": [
      "\n",
      "<br />\n",
      "Here is a list of all the available colorscales:"
     ]
    },
    {
     "cell_type": "code",
     "collapsed": false,
     "input": [
      "from IPython.core.display import *\n",
      "Image('https://pbs.twimg.com/media/B8n3zmGIMAA1xSQ.png')"
     ],
     "language": "python",
     "metadata": {},
     "outputs": [
      {
       "metadata": {},
       "output_type": "pyout",
       "png": "[encoded data removed]",
       "prompt_number": 56,
       "text": [
        "<IPython.core.display.Image object>"
       ]
      }
     ],
     "prompt_number": 56
    }
   ],
   "metadata": {}
  }
 ]
}