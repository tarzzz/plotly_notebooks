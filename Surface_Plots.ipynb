{
 "metadata": {
  "name": "",
  "signature": "sha256:20495de617f35933ac1dbae06db36407e5e1264e94d96526666b65c64a9fd284"
 },
 "nbformat": 3,
 "nbformat_minor": 0,
 "worksheets": [
  {
   "cells": [
    {
     "cell_type": "markdown",
     "metadata": {},
     "source": [
      "#Creating 3D Surface plots with Plotly#"
     ]
    },
    {
     "cell_type": "markdown",
     "metadata": {},
     "source": [
      "In this notebook, we will be exploring the world of plotting Surfaces using the powers of python and Plotly. Plotly is a graph plotting library, which is utilized for making awesome graphs and is pretty simple to use. If you are new to plotly, you may want to go through the basic plotly overview here [inserrt link]. We are going to create three surface plots. The first one serves as a tutorial for plotting surfaces using plotly, and rest two are the demonstration for its capabilities."
     ]
    },
    {
     "cell_type": "markdown",
     "metadata": {},
     "source": [
      "## A Simple 3D Surface ##"
     ]
    },
    {
     "cell_type": "markdown",
     "metadata": {},
     "source": [
      "In this section we are going to create a simple 3D Surface. We will be using an arbitrary function to generate the data points for the surface, and use it to create Surface plots using Plotly. "
     ]
    },
    {
     "cell_type": "markdown",
     "metadata": {},
     "source": [
      "## Importing the modules ##\n",
      "We start by importing plotly, which contains the methods for interacting with plotly's servers. It automatically signs us in to plotly web servers as well. More details about plotly authentication can be read [here](https://plot.ly/python/getting-started/)"
     ]
    },
    {
     "cell_type": "code",
     "collapsed": false,
     "input": [
      "import plotly.plotly as py "
     ],
     "language": "python",
     "metadata": {},
     "outputs": [],
     "prompt_number": 12
    },
    {
     "cell_type": "markdown",
     "metadata": {},
     "source": [
      "Next we import plotly's `graph_objects`. Graph Objects contains all the objects used for plotting, like `Figure`,`Data` etc. We will learn how to use them, as we move through this tutorial."
     ]
    },
    {
     "cell_type": "code",
     "collapsed": false,
     "input": [
      "from plotly.graph_objs import *"
     ],
     "language": "python",
     "metadata": {},
     "outputs": [],
     "prompt_number": 13
    },
    {
     "cell_type": "markdown",
     "metadata": {},
     "source": [
      "For this example, we will use `numpy` for data handling. Alternatively, pandas dataframes can also be used for the purpose, which we will see in the next example."
     ]
    },
    {
     "cell_type": "code",
     "collapsed": false,
     "input": [
      "import numpy as np"
     ],
     "language": "python",
     "metadata": {},
     "outputs": [],
     "prompt_number": 14
    },
    {
     "cell_type": "markdown",
     "metadata": {},
     "source": [
      "## Creating the dataset ##"
     ]
    },
    {
     "cell_type": "markdown",
     "metadata": {},
     "source": [
      "We need to create a dataset to plot. We start with a x,y grid."
     ]
    },
    {
     "cell_type": "code",
     "collapsed": false,
     "input": [
      "x = np.linspace(-5,80,10)\n",
      "y = np.linspace(-5,60,10)\n",
      "xGrid, yGrid = np.meshgrid(y, x)"
     ],
     "language": "python",
     "metadata": {},
     "outputs": [],
     "prompt_number": 16
    },
    {
     "cell_type": "markdown",
     "metadata": {},
     "source": [
      " Now we have an x-y grid to create our 3D surface on. For z, we are going to use an arbitrary function to generate the values. For this example, we are going to use a simple function `x^3 + y^3`"
     ]
    },
    {
     "cell_type": "code",
     "collapsed": false,
     "input": [
      "z = xGrid ** 3 + yGrid ** 3"
     ],
     "language": "python",
     "metadata": {},
     "outputs": [],
     "prompt_number": 29
    },
    {
     "cell_type": "markdown",
     "metadata": {},
     "source": [
      "## Plotting the data ##"
     ]
    },
    {
     "cell_type": "markdown",
     "metadata": {},
     "source": [
      "Now that we have created the dataset, (no cookies for guessing) we plot it using Plotly."
     ]
    },
    {
     "cell_type": "markdown",
     "metadata": {},
     "source": [
      "We start by creating a `Surface`, and converting it into Plotly's `Data` format:"
     ]
    },
    {
     "cell_type": "code",
     "collapsed": false,
     "input": [
      "surface = Surface(x=x,y=y,z=z)\n",
      "data = Data([surface])"
     ],
     "language": "python",
     "metadata": {},
     "outputs": [],
     "prompt_number": 25
    },
    {
     "cell_type": "markdown",
     "metadata": {},
     "source": [
      "Plotly's `Layout` is used to define values for customizing graph's design attributes like width, height etc."
     ]
    },
    {
     "cell_type": "code",
     "collapsed": false,
     "input": [
      "layout = Layout(\n",
      "    title='Ribbon Plot 1',\n",
      "    autosize=False,\n",
      "    width=800,\n",
      "    height=800)"
     ],
     "language": "python",
     "metadata": {},
     "outputs": [],
     "prompt_number": 26
    },
    {
     "cell_type": "markdown",
     "metadata": {},
     "source": [
      "With layout and data defined, it is time to create the figure. `Figure` class takes care of that (intuitive, eh?):"
     ]
    },
    {
     "cell_type": "code",
     "collapsed": false,
     "input": [
      "fig = Figure(data=data, layout=layout)"
     ],
     "language": "python",
     "metadata": {},
     "outputs": [],
     "prompt_number": 27
    },
    {
     "cell_type": "markdown",
     "metadata": {},
     "source": [
      "Simple enough? now we plot it, inside this notebook only (`iplot`)"
     ]
    },
    {
     "cell_type": "code",
     "collapsed": false,
     "input": [
      "py.iplot(fig, filename='surface-plot-example1')"
     ],
     "language": "python",
     "metadata": {},
     "outputs": [
      {
       "html": [
        "<iframe id=\"igraph\" scrolling=\"no\" style=\"border:none;\"seamless=\"seamless\" src=\"https://plot.ly/~tarzzz/201.embed\" height=\"525\" width=\"100%\"></iframe>"
       ],
       "metadata": {},
       "output_type": "pyout",
       "prompt_number": 28,
       "text": [
        "<plotly.tools.PlotlyDisplay object>"
       ]
      }
     ],
     "prompt_number": 28
    },
    {
     "cell_type": "markdown",
     "metadata": {},
     "source": [
      "Pretty, colorful, sheet-like plot. In the next sections we will see how we can customize these plots using plotly's awesome plotting tools. "
     ]
    },
    {
     "cell_type": "markdown",
     "metadata": {},
     "source": [
      "###TODO: Create other examples, covering plotly's capabilities."
     ]
    },
    {
     "cell_type": "markdown",
     "metadata": {},
     "source": []
    }
   ],
   "metadata": {}
  }
 ]
}