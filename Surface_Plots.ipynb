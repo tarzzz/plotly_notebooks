{
 "metadata": {
  "name": "",
  "signature": "sha256:2d56438bec2676497d1268aea2e8f665a0c26f6fa82f3f0c83e13599856a9a66"
 },
 "nbformat": 3,
 "nbformat_minor": 0,
 "worksheets": [
  {
   "cells": [
    {
     "cell_type": "markdown",
     "metadata": {},
     "source": [
      "#Creating 3D Surface Plots with Plotly#"
     ]
    },
    {
     "cell_type": "markdown",
     "metadata": {},
     "source": [
      "In this notebook, we will be exploring the world of plotting Surfaces using the powers of python and Plotly. Plotly is a graph plotting library, which is utilized for making awesome graphs and is pretty simple to use. The first example serves as a tutorial for plotting surfaces using plotly, and rest are the demonstration for its capabilities.\n",
      "\n",
      "We are going to cover the following sections in this notebook:\n",
      "\n",
      "  - [A Simple 3D Surface](#simple-surface)\n",
      "  - [Parametric Surfaces](#parametric-surface)\n",
      "  - [Adding Custom Colorscales to the plots](#custom-features)\n",
      "  - [Another Parametric Surface](#parametric-surface2)\n",
      "  - [Wireframe Plot](#wireframe-plot)"
     ]
    },
    {
     "cell_type": "markdown",
     "metadata": {},
     "source": [
      "<a name=\"simple-surface\"></a>\n",
      "## A Simple 3D Surface ##"
     ]
    },
    {
     "cell_type": "markdown",
     "metadata": {},
     "source": [
      "In this section we are going to create a simple 3D Surface. We will be using an arbitrary function to generate the data points for the surface, and use it to create Surface plots using Plotly. "
     ]
    },
    {
     "cell_type": "markdown",
     "metadata": {},
     "source": [
      "### Importing the modules ###\n",
      "We start by importing plotly, which contains the methods for interacting with plotly's servers. It automatically signs us in to plotly web servers as well. More details about plotly authentication can be read [here](https://plot.ly/python/getting-started/)"
     ]
    },
    {
     "cell_type": "code",
     "collapsed": false,
     "input": [
      "import plotly.plotly as py "
     ],
     "language": "python",
     "metadata": {},
     "outputs": [],
     "prompt_number": 1
    },
    {
     "cell_type": "markdown",
     "metadata": {},
     "source": [
      "Next we import plotly's `graph_objects`. Graph Objects contains all the objects used for plotting, like `Figure`,`Data` etc. We will learn how to use them, as we move through this tutorial."
     ]
    },
    {
     "cell_type": "code",
     "collapsed": false,
     "input": [
      "from plotly.graph_objs import *\n",
      "from plotly import tools"
     ],
     "language": "python",
     "metadata": {},
     "outputs": [],
     "prompt_number": 2
    },
    {
     "cell_type": "markdown",
     "metadata": {},
     "source": [
      "For this example, we will use `numpy` for data handling. Alternatively, pandas dataframes, or python lists can also be used for the purpose. "
     ]
    },
    {
     "cell_type": "code",
     "collapsed": false,
     "input": [
      "import numpy as np"
     ],
     "language": "python",
     "metadata": {},
     "outputs": [],
     "prompt_number": 3
    },
    {
     "cell_type": "markdown",
     "metadata": {},
     "source": [
      "### Creating the dataset ###"
     ]
    },
    {
     "cell_type": "markdown",
     "metadata": {},
     "source": [
      "We need to create a dataset to plot. We start by creating a mesh."
     ]
    },
    {
     "cell_type": "code",
     "collapsed": false,
     "input": [
      "x = np.linspace(-5,80,10)\n",
      "y = np.linspace(-5,60,10)\n",
      "xGrid, yGrid = np.meshgrid(y, x)"
     ],
     "language": "python",
     "metadata": {},
     "outputs": [],
     "prompt_number": 4
    },
    {
     "cell_type": "markdown",
     "metadata": {},
     "source": [
      "Now we have an x-y grid to create our 3D surface on. For z, we are going to use an arbitrary function to generate the values. For this example, we are going to use a simple function $x^3 + y^3$"
     ]
    },
    {
     "cell_type": "code",
     "collapsed": false,
     "input": [
      "z = xGrid ** 3 + yGrid ** 3"
     ],
     "language": "python",
     "metadata": {},
     "outputs": [],
     "prompt_number": 5
    },
    {
     "cell_type": "markdown",
     "metadata": {},
     "source": [
      "### Plotting the data ###"
     ]
    },
    {
     "cell_type": "markdown",
     "metadata": {},
     "source": [
      "Now that we have created the dataset, (no cookies for guessing) we plot it using Plotly."
     ]
    },
    {
     "cell_type": "markdown",
     "metadata": {},
     "source": [
      "We start by creating a `Surface`, and converting it into Plotly's `Data` format:"
     ]
    },
    {
     "cell_type": "code",
     "collapsed": false,
     "input": [
      "surface = Surface(x=x,y=y,z=z)\n",
      "data = Data([surface])"
     ],
     "language": "python",
     "metadata": {},
     "outputs": [],
     "prompt_number": 6
    },
    {
     "cell_type": "markdown",
     "metadata": {},
     "source": [
      "Plotly's `Layout` is used to define values for customizing graph's design attributes like width, height etc."
     ]
    },
    {
     "cell_type": "code",
     "collapsed": false,
     "input": [
      "scene=Scene(\n",
      "        xaxis=XAxis(\n",
      "            gridcolor='rgb(255, 255, 255)',\n",
      "            zerolinecolor='rgb(255, 255, 255)',\n",
      "            showbackground=True,\n",
      "            backgroundcolor='rgb(230, 230,230)'\n",
      "        ),\n",
      "        yaxis=YAxis(\n",
      "            gridcolor='rgb(255, 255, 255)',\n",
      "            zerolinecolor='rgb(255, 255, 255)',\n",
      "            showbackground=True,\n",
      "            backgroundcolor='rgb(230, 230,230)'\n",
      "        ),\n",
      "        zaxis=ZAxis(\n",
      "            gridcolor='rgb(255, 255, 255)',\n",
      "            zerolinecolor='rgb(255, 255, 255)',\n",
      "            showbackground=True,\n",
      "            backgroundcolor='rgb(230, 230,230)'\n",
      "        )\n",
      "    )\n",
      "\n",
      "layout = Layout(\n",
      "    title='Basic Surface Plot',\n",
      "    autosize=False,\n",
      "    scene=scene,\n",
      "    width=800,\n",
      "    height=800)"
     ],
     "language": "python",
     "metadata": {},
     "outputs": [],
     "prompt_number": 7
    },
    {
     "cell_type": "markdown",
     "metadata": {},
     "source": [
      "With layout and data defined, it is time to create the figure. `Figure` class takes care of that (intuitive, eh?):"
     ]
    },
    {
     "cell_type": "code",
     "collapsed": false,
     "input": [
      "fig = Figure(data=data, layout=layout)"
     ],
     "language": "python",
     "metadata": {},
     "outputs": [],
     "prompt_number": 8
    },
    {
     "cell_type": "markdown",
     "metadata": {},
     "source": [
      "Simple enough? now we plot it, inside this notebook only (`iplot`)"
     ]
    },
    {
     "cell_type": "code",
     "collapsed": false,
     "input": [
      "py.iplot(fig, filename='surface_plot', height=800)"
     ],
     "language": "python",
     "metadata": {},
     "outputs": [
      {
       "html": [
        "<iframe id=\"igraph\" scrolling=\"no\" style=\"border:none;\"seamless=\"seamless\" src=\"https://plot.ly/~tarzzz/221.embed\" height=\"800\" width=\"100%\"></iframe>"
       ],
       "metadata": {},
       "output_type": "pyout",
       "prompt_number": 9,
       "text": [
        "<plotly.tools.PlotlyDisplay object>"
       ]
      }
     ],
     "prompt_number": 9
    },
    {
     "cell_type": "markdown",
     "metadata": {},
     "source": [
      "\n",
      "<br />\n",
      "Pretty, colorful, sheet-like plot. In the next sections we will see how we can customize these plots using plotly's awesome plotting tools. "
     ]
    },
    {
     "cell_type": "markdown",
     "metadata": {},
     "source": [
      "<a name=\"parametric-surface\"></a>\n",
      "##Parametric Surfaces##\n",
      "\n",
      "In the last section, we had seen how to create simple surface plots using plotly. Now we dive deeper, to see how we can create slightly complex plots, fairly easily with plotly."
     ]
    },
    {
     "cell_type": "markdown",
     "metadata": {},
     "source": [
      "### Generating the data ###\n",
      "We start by generating a mesh-grid for plotting the surface. The equation of parametric surface will be defined using two parameters, `s` and `t`:"
     ]
    },
    {
     "cell_type": "code",
     "collapsed": false,
     "input": [
      "s = np.linspace(0,2*np.pi, 240)\n",
      "t = np.linspace(0,np.pi, 240)\n",
      "tGrid, sGrid = np.meshgrid(s, t)"
     ],
     "language": "python",
     "metadata": {},
     "outputs": [],
     "prompt_number": 10
    },
    {
     "cell_type": "markdown",
     "metadata": {},
     "source": [
      "Now we define the parametric equations of the plot using `s` and `t`:"
     ]
    },
    {
     "cell_type": "code",
     "collapsed": false,
     "input": [
      "r = 2 + np.sin(7*sGrid + 5*tGrid)  # r = 2 + sin(7s+5t)\n",
      "x1 = r*np.cos(sGrid)*np.sin(tGrid)  # x = r*cos(s)*sin(t)\n",
      "y1 = r*np.sin(sGrid)*np.sin(tGrid)  # y = r*sin(s)*sin(t)\n",
      "z1 = r*np.cos(tGrid)                # z = r*cos(t)"
     ],
     "language": "python",
     "metadata": {},
     "outputs": [],
     "prompt_number": 11
    },
    {
     "cell_type": "markdown",
     "metadata": {},
     "source": [
      "now that we have the data, we (wait for it..!) plot it.\n",
      "\n",
      "###Plotting the data ###"
     ]
    },
    {
     "cell_type": "code",
     "collapsed": false,
     "input": [
      "surface1 = Surface(x=x1,y=y1,z=z1) # Create surface\n",
      "data1 = Data([surface1])        # Create data object using surface data\n",
      "\n",
      "layout1 = Layout(               # Create Layout object\n",
      "                 title='Parametric Plot',\n",
      "                 autosize=False, \n",
      "                 scene=scene,\n",
      "                 width=800,height=800)\n",
      "\n",
      "fig1 = Figure(data=data1, layout=layout1) \n",
      "py.iplot(fig1, filename = 'Parametric_plot', height=800) #Plot it!"
     ],
     "language": "python",
     "metadata": {},
     "outputs": [
      {
       "html": [
        "<iframe id=\"igraph\" scrolling=\"no\" style=\"border:none;\"seamless=\"seamless\" src=\"https://plot.ly/~tarzzz/215.embed\" height=\"800\" width=\"100%\"></iframe>"
       ],
       "metadata": {},
       "output_type": "pyout",
       "prompt_number": 12,
       "text": [
        "<plotly.tools.PlotlyDisplay object>"
       ]
      }
     ],
     "prompt_number": 12
    },
    {
     "cell_type": "markdown",
     "metadata": {},
     "source": [
      "<br />\n",
      "Neat, huh! Now we shall see how we can use plotly to customize the plots, using features such as adding colorscales, hover texts and much more.."
     ]
    },
    {
     "cell_type": "markdown",
     "metadata": {},
     "source": [
      "<a name=\"custom-features\"></a>\n",
      "## Adding custom Colorscales to the plot\n",
      "\n",
      "Custom Colorscales can be added by supplying an argument to `Surface` class in the basic Surface plot example:\n"
     ]
    },
    {
     "cell_type": "code",
     "collapsed": false,
     "input": [
      "surface_w_clrscale = Surface(x=x,y=y,z=z,colorscale='Greens')"
     ],
     "language": "python",
     "metadata": {},
     "outputs": [],
     "prompt_number": 13
    },
    {
     "cell_type": "code",
     "collapsed": false,
     "input": [
      "# Plotting data\n",
      "data_w_clrscale = Data([surface_w_clrscale])\n",
      "\n",
      "layout_w_clrscale = Layout(         \n",
      "                 title='Surface Plot(With Custom Colorscale)',\n",
      "                 autosize=False,\n",
      "                 scene=scene,\n",
      "                 width=800,height=800)\n",
      "\n",
      "fig_w_clrscale = Figure(data=data_w_clrscale, layout=layout_w_clrscale) \n",
      "py.iplot(fig_w_clrscale, filename = 'surface_plot_with_custom_colorscale', height=800)"
     ],
     "language": "python",
     "metadata": {},
     "outputs": [
      {
       "html": [
        "<iframe id=\"igraph\" scrolling=\"no\" style=\"border:none;\"seamless=\"seamless\" src=\"https://plot.ly/~tarzzz/219.embed\" height=\"800\" width=\"100%\"></iframe>"
       ],
       "metadata": {},
       "output_type": "pyout",
       "prompt_number": 14,
       "text": [
        "<plotly.tools.PlotlyDisplay object>"
       ]
      }
     ],
     "prompt_number": 14
    },
    {
     "cell_type": "markdown",
     "metadata": {},
     "source": [
      "<a name=\"parametric-surface2\"></a>\n",
      "##Another Parametric Surface\n",
      "<br />\n",
      "In the below example, A parametric plot is plotted using the newly introduced `Viridis` scale:"
     ]
    },
    {
     "cell_type": "code",
     "collapsed": false,
     "input": [
      "# Constructing the mesh and defining variables..\n",
      "dphi, dtheta = np.pi/250.0, np.pi/250.0\n",
      "[phi,theta] = np.mgrid[0:np.pi+dphi*1.5:dphi, 0:2*np.pi+dtheta*1.5:dtheta]\n",
      "m0 = 4; m1 = 3; m2 = 2; m3 = 3; m4 = 6; m5 = 2; m6 = 6; m7 = 4;\n",
      "\n",
      "# Applying the parametric equation..\n",
      "r = np.sin(m0*phi)**m1 + np.cos(m2*phi)**m3 + np.sin(m4*theta)**m5 + np.cos(m6*theta)**m7\n",
      "x2 = r*np.sin(phi) * np.cos(theta)\n",
      "y2 = r*np.cos(phi)\n",
      "z2 = r*np.sin(phi) * np.sin(theta)\n",
      "\n",
      "# Plotting...\n",
      "surface2 = Surface(x=x2,y=y2,z=z2, colorscale='Viridis')\n",
      "data2 = Data([surface2])\n",
      "layout2 = Layout(         \n",
      "                 title='Another Parametric Plot',\n",
      "                 autosize=False,\n",
      "                 scene=scene,\n",
      "                 width=800,height=800)\n",
      "fig2 = Figure(data=data2, layout=layout2)\n",
      "py.iplot(fig2, file_name='parametric_plot2', height=800)\n",
      "\n"
     ],
     "language": "python",
     "metadata": {},
     "outputs": [
      {
       "html": [
        "<iframe id=\"igraph\" scrolling=\"no\" style=\"border:none;\"seamless=\"seamless\" src=\"https://plot.ly/~tarzzz/318.embed\" height=\"800\" width=\"100%\"></iframe>"
       ],
       "metadata": {},
       "output_type": "pyout",
       "prompt_number": 15,
       "text": [
        "<plotly.tools.PlotlyDisplay object>"
       ]
      }
     ],
     "prompt_number": 15
    },
    {
     "cell_type": "markdown",
     "metadata": {},
     "source": [
      "Now we use this plot to create sub-plots in a single plot, with multiple colorscales:"
     ]
    },
    {
     "cell_type": "code",
     "collapsed": false,
     "input": [
      "fig3 = tools.make_subplots(rows=2, cols=2, specs=[[{'is_3d': True}, {'is_3d': True}],\n",
      "                               [{'is_3d': True}, {'is_3d': True}]])\n",
      "\n",
      "# adding surfaces to subplots.\n",
      "fig3.append_trace(dict(type='surface',x=x,y=y,z=z, colorscale='Viridis',scene='scene1',showscale=False), 1, 1)\n",
      "fig3.append_trace(dict(type='surface',x=x,y=y,z=z, colorscale='RdBu',scene='scene2',showscale=False), 1, 2)\n",
      "fig3.append_trace(dict(type='surface',x=x,y=y,z=z, colorscale='YIOrRd',scene='scene3',showscale=False), 2, 1)\n",
      "fig3.append_trace(dict(type='surface',x=x,y=y,z=z, colorscale='YIGnBu',scene='scene4',showscale=False), 2, 2)\n",
      "\n",
      "fig3['layout'].update(height=800, width=600, title='subplots with different colorscales', showcolorscale=False)\n",
      "fig3['layout']['scene1'].update(scene)\n",
      "fig3['layout']['scene2'].update(scene)\n",
      "fig3['layout']['scene3'].update(scene)\n",
      "fig3['layout']['scene4'].update(scene)\n",
      "\n",
      "\n",
      "py.iplot(fig3, file_name='multiple_plots',height=800, validate=False)"
     ],
     "language": "python",
     "metadata": {},
     "outputs": [
      {
       "output_type": "stream",
       "stream": "stdout",
       "text": [
        "This is the format of your plot grid:\n",
        "[ (1,1) scene1 ]  [ (1,2) scene2 ]\n",
        "[ (2,1) scene3 ]  [ (2,2) scene4 ]\n",
        "\n"
       ]
      },
      {
       "html": [
        "<iframe id=\"igraph\" scrolling=\"no\" style=\"border:none;\"seamless=\"seamless\" src=\"https://plot.ly/~tarzzz/320.embed\" height=\"800\" width=\"100%\"></iframe>"
       ],
       "metadata": {},
       "output_type": "pyout",
       "prompt_number": 16,
       "text": [
        "<plotly.tools.PlotlyDisplay object>"
       ]
      }
     ],
     "prompt_number": 16
    },
    {
     "cell_type": "markdown",
     "metadata": {},
     "source": [
      "In this notebook, we have seen how to create Surface plots, and customize the colorscales on them. For more exhaustive list of colorscales, `colorlover` module can be used. A demonstration of colorlover module is available at this [gist](http://nbviewer.ipython.org/gist/jackparmer/4696226c9b6b931bbdf6)"
     ]
    },
    {
     "cell_type": "markdown",
     "metadata": {},
     "source": [
      "<a name=\"wireframe-plot\"></a>\n",
      "##Wireframe Plot##\n",
      "<br />\n",
      "In this section, we will see how Wireframe plots can be created:"
     ]
    },
    {
     "cell_type": "code",
     "collapsed": false,
     "input": [
      "# Creating the data ...\n",
      "x4 = np.linspace(-5,5,50)\n",
      "y4 = np.linspace(-5,5,50)\n",
      "xGrid4, yGrid4 = np.meshgrid(y4, x4)\n",
      "R = np.sqrt(xGrid4**2 + yGrid4**2)\n",
      "z4 = np.sin(R)    "
     ],
     "language": "python",
     "metadata": {},
     "outputs": [],
     "prompt_number": 17
    },
    {
     "cell_type": "code",
     "collapsed": false,
     "input": [
      "# Creating the plot..\n",
      "lines = []\n",
      "line_marker=Line(color='#0066FF', width=2)\n",
      "for i,j,k in zip(xGrid4,yGrid4,z4):\n",
      "    lines.append(Scatter3d(x=i,y=j,z=k, mode='lines',line=line_marker))\n",
      "\n",
      "data = Data(lines)\n",
      "layout4 = Layout(\n",
      "    title='Wireframe Plot',\n",
      "    autosize=False,\n",
      "    showlegend=False,\n",
      "    scene=scene,\n",
      "    width=800,\n",
      "    height=800)\n",
      "fig4 = Figure(data=data, layout=layout4)"
     ],
     "language": "python",
     "metadata": {},
     "outputs": [],
     "prompt_number": 18
    },
    {
     "cell_type": "code",
     "collapsed": false,
     "input": [
      "# Plotting..\n",
      "py.iplot(fig4, filename='wireframe_plot', height=800)"
     ],
     "language": "python",
     "metadata": {},
     "outputs": [
      {
       "html": [
        "<iframe id=\"igraph\" scrolling=\"no\" style=\"border:none;\"seamless=\"seamless\" src=\"https://plot.ly/~tarzzz/280.embed\" height=\"800\" width=\"100%\"></iframe>"
       ],
       "metadata": {},
       "output_type": "pyout",
       "prompt_number": 19,
       "text": [
        "<plotly.tools.PlotlyDisplay object>"
       ]
      }
     ],
     "prompt_number": 19
    }
   ],
   "metadata": {}
  }
 ]
}