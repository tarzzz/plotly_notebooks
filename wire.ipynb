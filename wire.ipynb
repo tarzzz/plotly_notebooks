{
 "metadata": {
  "name": "",
  "signature": "sha256:95d4270896b5621dab43145aa4c18f3c11c81f827e3c27d92d0ff5f023d488e0"
 },
 "nbformat": 3,
 "nbformat_minor": 0,
 "worksheets": [
  {
   "cells": [
    {
     "cell_type": "code",
     "collapsed": false,
     "input": [
      "import plotly.plotly as py \n",
      "from plotly.graph_objs import *\n",
      "from plotly import tools\n",
      "\n",
      "import numpy as np"
     ],
     "language": "python",
     "metadata": {},
     "outputs": [],
     "prompt_number": 1
    },
    {
     "cell_type": "code",
     "collapsed": false,
     "input": [
      "scene = Scene(xaxis=XAxis(\n",
      "                          gridcolor='rgb(200, 200, 210)', gridwidth=2\n",
      "                          ),\n",
      "             yaxis=YAxis(\n",
      "                          gridcolor='rgb(200, 200, 210)', gridwidth=2\n",
      "                          ),\n",
      "            zaxis=ZAxis(\n",
      "                          gridcolor='rgb(200, 200, 210)', gridwidth=2\n",
      "                          ),\n",
      "            bgcolor='rgb(244, 244, 248)')\n",
      "\n",
      "x4 = np.linspace(-5,5,50)\n",
      "y4 = np.linspace(-5,5,50)\n",
      "xGrid4, yGrid4 = np.meshgrid(y4, x4)\n",
      "R = np.sqrt(xGrid4**2 + yGrid4**2)\n",
      "z4 = np.sin(R)\n",
      "lines = []\n",
      "for i,j,k in zip(xGrid4,yGrid4,z4):\n",
      "    lines.append(Scatter3d(x=i,y=j,z=k, mode='lines'))\n",
      "    \n",
      "\n",
      "data = Data(lines)\n",
      "layout4 = Layout(\n",
      "    title='Wireframe Plot',\n",
      "    autosize=False,\n",
      "    scene=scene,\n",
      "    width=800,\n",
      "    height=800)\n",
      "fig = Figure(data=data, layout=layout4)\n",
      "\n",
      "#py.iplot(fig)\n"
     ],
     "language": "python",
     "metadata": {},
     "outputs": [],
     "prompt_number": 7
    },
    {
     "cell_type": "code",
     "collapsed": false,
     "input": [
      "py.iplot(fig,filename='wireframe2')"
     ],
     "language": "python",
     "metadata": {},
     "outputs": [
      {
       "html": [
        "<iframe id=\"igraph\" scrolling=\"no\" style=\"border:none;\"seamless=\"seamless\" src=\"https://plot.ly/~tarzzz/302.embed\" height=\"525\" width=\"100%\"></iframe>"
       ],
       "metadata": {},
       "output_type": "pyout",
       "prompt_number": 8,
       "text": [
        "<plotly.tools.PlotlyDisplay object>"
       ]
      }
     ],
     "prompt_number": 8
    }
   ],
   "metadata": {}
  }
 ]
}